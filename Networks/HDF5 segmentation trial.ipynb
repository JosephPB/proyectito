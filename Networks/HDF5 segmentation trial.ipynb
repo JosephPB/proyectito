{
 "cells": [
  {
   "cell_type": "markdown",
   "metadata": {},
   "source": [
    "# SegNet Implementation"
   ]
  },
  {
   "cell_type": "code",
   "execution_count": 23,
   "metadata": {},
   "outputs": [],
   "source": [
    "import tensorflow\n",
    "import h5py\n",
    "#from PIL import Image\n",
    "import numpy as np\n",
    "#import matplotlib.pyplot as plt"
   ]
  },
  {
   "cell_type": "code",
   "execution_count": 24,
   "metadata": {},
   "outputs": [],
   "source": [
    "from keras.preprocessing.image import ImageDataGenerator, array_to_img, img_to_array, load_img\n",
    "from keras.models import Model, Sequential\n",
    "from keras.layers import Input, concatenate, Conv2D, MaxPooling2D, UpSampling2D, Dropout, Cropping2D,Convolution2D\n",
    "from keras.layers import BatchNormalization, Reshape, Layer\n",
    "from keras.layers import Activation, Flatten, Dense\n",
    "from keras.optimizers import *\n",
    "from keras.callbacks import ModelCheckpoint, LearningRateScheduler\n",
    "from keras.metrics import categorical_accuracy\n",
    "from keras import backend as K\n",
    "from keras import losses"
   ]
  },
  {
   "cell_type": "code",
   "execution_count": 25,
   "metadata": {},
   "outputs": [],
   "source": [
    "hf = h5py.File('/home/joseph/Documents/data/Segmentation/HDF5/database_64.hdf5', 'r')"
   ]
  },
  {
   "cell_type": "code",
   "execution_count": 26,
   "metadata": {},
   "outputs": [
    {
     "data": {
      "text/plain": [
       "['test_img', 'test_label', 'train_img', 'train_label', 'val_img', 'val_label']"
      ]
     },
     "execution_count": 26,
     "metadata": {},
     "output_type": "execute_result"
    }
   ],
   "source": [
    "list(hf.keys())"
   ]
  },
  {
   "cell_type": "code",
   "execution_count": 27,
   "metadata": {},
   "outputs": [],
   "source": [
    "train = hf['train_img'][:]\n",
    "train = np.stack([train,train,train],axis=-1)"
   ]
  },
  {
   "cell_type": "code",
   "execution_count": 28,
   "metadata": {},
   "outputs": [
    {
     "data": {
      "text/plain": [
       "(32, 64, 64, 1, 3)"
      ]
     },
     "execution_count": 28,
     "metadata": {},
     "output_type": "execute_result"
    }
   ],
   "source": [
    "train.shape"
   ]
  },
  {
   "cell_type": "code",
   "execution_count": 29,
   "metadata": {},
   "outputs": [],
   "source": [
    "#label = np.argmax(hf['train_label'],axis=3)\n",
    "label = hf['train_label'][:]"
   ]
  },
  {
   "cell_type": "code",
   "execution_count": 30,
   "metadata": {},
   "outputs": [],
   "source": [
    "train = train.reshape(32,64,64,3)"
   ]
  },
  {
   "cell_type": "code",
   "execution_count": 31,
   "metadata": {},
   "outputs": [
    {
     "data": {
      "text/plain": [
       "(32, 64, 64, 3)"
      ]
     },
     "execution_count": 31,
     "metadata": {},
     "output_type": "execute_result"
    }
   ],
   "source": [
    "train.shape"
   ]
  },
  {
   "cell_type": "code",
   "execution_count": 32,
   "metadata": {},
   "outputs": [
    {
     "data": {
      "text/plain": [
       "<matplotlib.image.AxesImage at 0x7f97ab9d2128>"
      ]
     },
     "execution_count": 32,
     "metadata": {},
     "output_type": "execute_result"
    },
    {
     "data": {
      "image/png": "[encoded data removed]",
      "text/plain": [
       "<Figure size 432x288 with 1 Axes>"
      ]
     },
     "metadata": {},
     "output_type": "display_data"
    }
   ],
   "source": [
    "plt.imshow(train[0,...,0])"
   ]
  },
  {
   "cell_type": "code",
   "execution_count": 33,
   "metadata": {},
   "outputs": [],
   "source": [
    "label = label.reshape((32,64*64,3))"
   ]
  },
  {
   "cell_type": "code",
   "execution_count": 34,
   "metadata": {},
   "outputs": [
    {
     "data": {
      "text/plain": [
       "(32, 4096, 3)"
      ]
     },
     "execution_count": 34,
     "metadata": {},
     "output_type": "execute_result"
    }
   ],
   "source": [
    "label.shape"
   ]
  },
  {
   "cell_type": "code",
   "execution_count": 17,
   "metadata": {},
   "outputs": [
    {
     "name": "stdout",
     "output_type": "stream",
     "text": [
      "(?, 200, 200, 64)\n",
      "(?, 100, 100, 64)\n",
      "(?, 100, 100, 128)\n",
      "(?, 50, 50, 128)\n",
      "(?, 50, 50, 256)\n",
      "(?, 25, 25, 256)\n",
      "(?, 25, 25, 512)\n",
      "(?, 25, 25, 512)\n",
      "(?, 50, 50, 512)\n",
      "(?, 50, 50, 256)\n",
      "(?, 100, 100, 256)\n",
      "(?, 100, 100, 128)\n",
      "(?, 200, 200, 128)\n",
      "(?, 200, 200, 128)\n",
      "(?, 200, 200, 3)\n",
      "Tensor(\"conv2d_9/BiasAdd:0\", shape=(?, 200, 200, 3), dtype=float32)\n",
      "(?, 40000, 3)\n"
     ]
    }
   ],
   "source": [
    "input_shape=(200, 200, 3)\n",
    "classes=3\n",
    "\n",
    "# c.f. https://github.com/alexgkendall/SegNet-Tutorial/blob/master/Example_Models/bayesian_segnet_camvid.prototxt\n",
    "img_input = Input(shape=input_shape)\n",
    "x = img_input\n",
    "# Encoder\n",
    "x = Conv2D(64, (3, 3), padding=\"same\")(x)\n",
    "print(x.shape)\n",
    "#x = BatchNormalization()(x)\n",
    "x = Activation(\"relu\")(x)\n",
    "x = MaxPooling2D(pool_size=(2, 2))(x)\n",
    "print(x.shape)\n",
    "\n",
    "x = Conv2D(128, (3, 3), padding=\"same\")(x)\n",
    "print(x.shape)\n",
    "#x = BatchNormalization()(x)\n",
    "x = Activation(\"relu\")(x)\n",
    "x = MaxPooling2D(pool_size=(2, 2))(x)\n",
    "print(x.shape)\n",
    "\n",
    "x = Conv2D(256, (3, 3), padding=\"same\")(x)\n",
    "print(x.shape)\n",
    "#x = BatchNormalization()(x)\n",
    "x = Activation(\"relu\")(x)\n",
    "x = MaxPooling2D(pool_size=(2, 2))(x)\n",
    "print(x.shape)\n",
    "\n",
    "x = Conv2D(512, (3, 3), padding=\"same\")(x)\n",
    "print(x.shape)\n",
    "#x = BatchNormalization()(x)\n",
    "x = Activation(\"relu\")(x)\n",
    "\n",
    "# Decoder\n",
    "x = Conv2D(512, (3, 3), padding=\"same\")(x)\n",
    "print(x.shape)\n",
    "#x = BatchNormalization()(x)\n",
    "x = Activation(\"relu\")(x)\n",
    "\n",
    "x = UpSampling2D(size=(2, 2))(x)\n",
    "print(x.shape)\n",
    "x = Conv2D(256, (3, 3), padding=\"same\")(x)\n",
    "print(x.shape)\n",
    "#x = BatchNormalization()(x)\n",
    "x = Activation(\"relu\")(x)\n",
    "\n",
    "x = UpSampling2D(size=(2, 2))(x)\n",
    "print(x.shape)\n",
    "x = Conv2D(128, (3, 3), padding=\"same\")(x)\n",
    "print(x.shape)\n",
    "#x = BatchNormalization()(x)\n",
    "x = Activation(\"relu\")(x)\n",
    "\n",
    "x = UpSampling2D(size=(2, 2))(x)\n",
    "print(x.shape)\n",
    "x = Conv2D(128, (3, 3), padding=\"same\")(x)\n",
    "print(x.shape)\n",
    "#x = BatchNormalization()(x)\n",
    "x = Activation(\"relu\")(x)\n",
    "\n",
    "x = Convolution2D(classes, (1,1), padding=\"valid\")(x)\n",
    "print(x.shape)\n",
    "\n",
    "\n",
    "#x = Dense(classes,activation='softmax')(x)\n",
    "#x = Flatten()(x)\n",
    "print (x)\n",
    "x = Reshape((input_shape[0]*input_shape[1],classes))(x)\n",
    "print(x.shape)\n",
    "x = Activation(\"softmax\")(x)\n",
    "\n",
    "model = Model(img_input, x)\n"
   ]
  },
  {
   "cell_type": "code",
   "execution_count": 18,
   "metadata": {},
   "outputs": [],
   "source": [
    "model.compile(loss = 'categorical_crossentropy', optimizer = 'adadelta', metrics=[\"accuracy\"])"
   ]
  },
  {
   "cell_type": "code",
   "execution_count": null,
   "metadata": {},
   "outputs": [
    {
     "name": "stdout",
     "output_type": "stream",
     "text": [
      "Epoch 1/10\n"
     ]
    }
   ],
   "source": [
    "model.fit(train,label,epochs = 10)"
   ]
  },
  {
   "cell_type": "code",
   "execution_count": null,
   "metadata": {},
   "outputs": [],
   "source": []
  },
  {
   "cell_type": "code",
   "execution_count": null,
   "metadata": {},
   "outputs": [],
   "source": []
  },
  {
   "cell_type": "code",
   "execution_count": null,
   "metadata": {},
   "outputs": [],
   "source": []
  },
  {
   "cell_type": "code",
   "execution_count": 35,
   "metadata": {},
   "outputs": [
    {
     "data": {
      "text/plain": [
       "(32, 64, 64, 3)"
      ]
     },
     "execution_count": 35,
     "metadata": {},
     "output_type": "execute_result"
    }
   ],
   "source": [
    "train.shape"
   ]
  },
  {
   "cell_type": "code",
   "execution_count": 36,
   "metadata": {},
   "outputs": [
    {
     "data": {
      "text/plain": [
       "(32, 4096, 3)"
      ]
     },
     "execution_count": 36,
     "metadata": {},
     "output_type": "execute_result"
    }
   ],
   "source": [
    "label.shape"
   ]
  },
  {
   "cell_type": "code",
   "execution_count": 38,
   "metadata": {},
   "outputs": [
    {
     "name": "stdout",
     "output_type": "stream",
     "text": [
      "(?, 64, 64, 12)\n",
      "(?, 32, 32, 12)\n",
      "(?, 32, 32, 12)\n",
      "(?, 32, 32, 12)\n",
      "(?, 64, 64, 12)\n",
      "(?, 64, 64, 12)\n",
      "(?, 64, 64, 3)\n",
      "Tensor(\"conv2d_23/BiasAdd:0\", shape=(?, 64, 64, 3), dtype=float32)\n",
      "(?, 4096, 3)\n"
     ]
    }
   ],
   "source": [
    "input_shape=(64, 64, 3)\n",
    "classes=3\n",
    "\n",
    "# c.f. https://github.com/alexgkendall/SegNet-Tutorial/blob/master/Example_Models/bayesian_segnet_camvid.prototxt\n",
    "img_input = Input(shape=input_shape)\n",
    "x = img_input\n",
    "# Encoder\n",
    "x = Conv2D(12, (3, 3), padding=\"same\")(x)\n",
    "print(x.shape)\n",
    "x = BatchNormalization()(x)\n",
    "x = Activation(\"relu\")(x)\n",
    "x = MaxPooling2D(pool_size=(2, 2))(x)\n",
    "print(x.shape)\n",
    "\n",
    "x = Conv2D(12, (3, 3), padding=\"same\")(x)\n",
    "print(x.shape)\n",
    "x = BatchNormalization()(x)\n",
    "x = Activation(\"relu\")(x)\n",
    "\n",
    "# Decoder\n",
    "x = Conv2D(12, (3, 3), padding=\"same\")(x)\n",
    "print(x.shape)\n",
    "x = BatchNormalization()(x)\n",
    "x = Activation(\"relu\")(x)\n",
    "\n",
    "x = UpSampling2D(size=(2, 2))(x)\n",
    "print(x.shape)\n",
    "x = Conv2D(12, (3, 3), padding=\"same\")(x)\n",
    "print(x.shape)\n",
    "x = BatchNormalization()(x)\n",
    "x = Activation(\"relu\")(x)\n",
    "\n",
    "x = Convolution2D(classes, (1,1), padding=\"valid\")(x)\n",
    "print(x.shape)\n",
    "\n",
    "\n",
    "#x = Dense(classes,activation='softmax')(x)\n",
    "#x = Flatten()(x)\n",
    "print (x)\n",
    "x = Reshape((input_shape[0]*input_shape[1],classes))(x)\n",
    "print(x.shape)\n",
    "x = Activation(\"softmax\")(x)\n",
    "\n",
    "model = Model(img_input, x)"
   ]
  },
  {
   "cell_type": "code",
   "execution_count": 39,
   "metadata": {},
   "outputs": [],
   "source": [
    "model.compile(loss = 'categorical_crossentropy', optimizer = 'adadelta', metrics=[\"accuracy\"])"
   ]
  },
  {
   "cell_type": "code",
   "execution_count": 40,
   "metadata": {},
   "outputs": [
    {
     "name": "stdout",
     "output_type": "stream",
     "text": [
      "Epoch 1/20\n",
      "32/32 [==============================] - 2s 52ms/step - loss: 200.6957 - acc: 0.6703\n",
      "Epoch 2/20\n",
      "32/32 [==============================] - 1s 29ms/step - loss: 166.1871 - acc: 0.7391\n",
      "Epoch 3/20\n",
      "32/32 [==============================] - 1s 29ms/step - loss: 152.1199 - acc: 0.7643\n",
      "Epoch 4/20\n",
      "32/32 [==============================] - 1s 27ms/step - loss: 141.6057 - acc: 0.7909\n",
      "Epoch 5/20\n",
      "32/32 [==============================] - 1s 30ms/step - loss: 133.9011 - acc: 0.7985\n",
      "Epoch 6/20\n",
      "32/32 [==============================] - 1s 30ms/step - loss: 127.7660 - acc: 0.8074\n",
      "Epoch 7/20\n",
      "32/32 [==============================] - 1s 31ms/step - loss: 121.3653 - acc: 0.8207\n",
      "Epoch 8/20\n",
      "32/32 [==============================] - 1s 27ms/step - loss: 116.2266 - acc: 0.8277\n",
      "Epoch 9/20\n",
      "32/32 [==============================] - 1s 28ms/step - loss: 111.8135 - acc: 0.8310\n",
      "Epoch 10/20\n",
      "32/32 [==============================] - 1s 27ms/step - loss: 107.9629 - acc: 0.8389\n",
      "Epoch 11/20\n",
      "32/32 [==============================] - 1s 28ms/step - loss: 103.0522 - acc: 0.8439\n",
      "Epoch 12/20\n",
      "32/32 [==============================] - 1s 28ms/step - loss: 100.7089 - acc: 0.8485\n",
      "Epoch 13/20\n",
      "32/32 [==============================] - 1s 29ms/step - loss: 97.7316 - acc: 0.8529\n",
      "Epoch 14/20\n",
      "32/32 [==============================] - 1s 31ms/step - loss: 94.7050 - acc: 0.8564\n",
      "Epoch 15/20\n",
      "32/32 [==============================] - 1s 28ms/step - loss: 92.9633 - acc: 0.8587\n",
      "Epoch 16/20\n",
      "32/32 [==============================] - 1s 30ms/step - loss: 88.6904 - acc: 0.8632\n",
      "Epoch 17/20\n",
      "32/32 [==============================] - 1s 29ms/step - loss: 88.9462 - acc: 0.8616\n",
      "Epoch 18/20\n",
      "32/32 [==============================] - 1s 30ms/step - loss: 86.2947 - acc: 0.8669\n",
      "Epoch 19/20\n",
      "32/32 [==============================] - 1s 27ms/step - loss: 84.3902 - acc: 0.8695\n",
      "Epoch 20/20\n",
      "32/32 [==============================] - 1s 27ms/step - loss: 82.4834 - acc: 0.8761\n"
     ]
    },
    {
     "data": {
      "text/plain": [
       "<keras.callbacks.History at 0x7f97b554c470>"
      ]
     },
     "execution_count": 40,
     "metadata": {},
     "output_type": "execute_result"
    }
   ],
   "source": [
    "model.fit(train,label,epochs = 20, batch_size = 1)"
   ]
  },
  {
   "cell_type": "code",
   "execution_count": 47,
   "metadata": {},
   "outputs": [],
   "source": [
    "test = hf['test_img'][:]\n",
    "test = np.stack([test,test,test],axis=-1)"
   ]
  },
  {
   "cell_type": "code",
   "execution_count": 48,
   "metadata": {},
   "outputs": [],
   "source": [
    "test = test.reshape(7,64,64,3)"
   ]
  },
  {
   "cell_type": "code",
   "execution_count": 56,
   "metadata": {},
   "outputs": [
    {
     "data": {
      "text/plain": [
       "(64, 64, 3)"
      ]
     },
     "execution_count": 56,
     "metadata": {},
     "output_type": "execute_result"
    }
   ],
   "source": [
    "test[0].shape\n",
    "test0 = test[0]\n",
    "64*64\n",
    "test0.shape"
   ]
  },
  {
   "cell_type": "code",
   "execution_count": 57,
   "metadata": {},
   "outputs": [],
   "source": [
    "test0 = test0.reshape((1,64,64,3))"
   ]
  },
  {
   "cell_type": "code",
   "execution_count": 67,
   "metadata": {},
   "outputs": [],
   "source": [
    "prediction = model.predict(test0)\n",
    "prediction = prediction.reshape((64,64,3))"
   ]
  },
  {
   "cell_type": "code",
   "execution_count": 68,
   "metadata": {},
   "outputs": [
    {
     "data": {
      "text/plain": [
       "<matplotlib.image.AxesImage at 0x7f979dbc2a20>"
      ]
     },
     "execution_count": 68,
     "metadata": {},
     "output_type": "execute_result"
    },
    {
     "data": {
      "image/png": "[encoded data removed]",
      "text/plain": [
       "<Figure size 432x288 with 1 Axes>"
      ]
     },
     "metadata": {},
     "output_type": "display_data"
    }
   ],
   "source": [
    "plt.imshow(prediction)"
   ]
  },
  {
   "cell_type": "code",
   "execution_count": null,
   "metadata": {},
   "outputs": [],
   "source": []
  },
  {
   "cell_type": "code",
   "execution_count": 14,
   "metadata": {},
   "outputs": [],
   "source": [
    "import keras.models as models\n",
    "from keras.layers.core import Layer, Dense, Dropout, Activation, Flatten, Reshape, Permute\n",
    "from keras.layers.convolutional import Convolution2D, MaxPooling2D, UpSampling2D, ZeroPadding2D\n",
    "from keras.layers.normalization import BatchNormalization"
   ]
  },
  {
   "cell_type": "code",
   "execution_count": 15,
   "metadata": {},
   "outputs": [
    {
     "name": "stderr",
     "output_type": "stream",
     "text": [
      "c:\\program files\\python36\\lib\\site-packages\\ipykernel_launcher.py:12: UserWarning: Update your `Conv2D` call to the Keras 2 API: `Conv2D(64, (3, 3), padding=\"valid\")`\n",
      "  if sys.path[0] == '':\n",
      "c:\\program files\\python36\\lib\\site-packages\\ipykernel_launcher.py:18: UserWarning: Update your `Conv2D` call to the Keras 2 API: `Conv2D(128, (3, 3), padding=\"valid\")`\n",
      "c:\\program files\\python36\\lib\\site-packages\\ipykernel_launcher.py:24: UserWarning: Update your `Conv2D` call to the Keras 2 API: `Conv2D(256, (3, 3), padding=\"valid\")`\n",
      "c:\\program files\\python36\\lib\\site-packages\\ipykernel_launcher.py:30: UserWarning: Update your `Conv2D` call to the Keras 2 API: `Conv2D(512, (3, 3), padding=\"valid\")`\n",
      "c:\\program files\\python36\\lib\\site-packages\\ipykernel_launcher.py:42: UserWarning: Update your `Conv2D` call to the Keras 2 API: `Conv2D(512, (3, 3), padding=\"valid\")`\n",
      "c:\\program files\\python36\\lib\\site-packages\\ipykernel_launcher.py:47: UserWarning: Update your `Conv2D` call to the Keras 2 API: `Conv2D(256, (3, 3), padding=\"valid\")`\n",
      "c:\\program files\\python36\\lib\\site-packages\\ipykernel_launcher.py:52: UserWarning: Update your `Conv2D` call to the Keras 2 API: `Conv2D(128, (3, 3), padding=\"valid\")`\n",
      "c:\\program files\\python36\\lib\\site-packages\\ipykernel_launcher.py:57: UserWarning: Update your `Conv2D` call to the Keras 2 API: `Conv2D(64, (3, 3), padding=\"valid\")`\n",
      "c:\\program files\\python36\\lib\\site-packages\\ipykernel_launcher.py:81: UserWarning: Update your `Conv2D` call to the Keras 2 API: `Conv2D(3, (1, 1), padding=\"valid\")`\n"
     ]
    }
   ],
   "source": [
    "data_shape = 200*200\n",
    "\n",
    "\n",
    "\n",
    "def create_encoding_layers():\n",
    "    kernel = 3\n",
    "    filter_size = 64\n",
    "    pad = 1\n",
    "    pool_size = 2\n",
    "    return [\n",
    "        ZeroPadding2D(padding=(pad,pad)),\n",
    "        Convolution2D(filter_size, kernel, kernel, border_mode='valid'),\n",
    "        BatchNormalization(),\n",
    "        Activation('relu'),\n",
    "        MaxPooling2D(pool_size=(pool_size, pool_size)),\n",
    "\n",
    "        ZeroPadding2D(padding=(pad,pad)),\n",
    "        Convolution2D(128, kernel, kernel, border_mode='valid'),\n",
    "        BatchNormalization(),\n",
    "        Activation('relu'),\n",
    "        MaxPooling2D(pool_size=(pool_size, pool_size)),\n",
    "\n",
    "        ZeroPadding2D(padding=(pad,pad)),\n",
    "        Convolution2D(256, kernel, kernel, border_mode='valid'),\n",
    "        BatchNormalization(),\n",
    "        Activation('relu'),\n",
    "        MaxPooling2D(pool_size=(pool_size, pool_size)),\n",
    "\n",
    "        ZeroPadding2D(padding=(pad,pad)),\n",
    "        Convolution2D(512, kernel, kernel, border_mode='valid'),\n",
    "        BatchNormalization(),\n",
    "        Activation('relu'),\n",
    "    ]\n",
    "\n",
    "def create_decoding_layers():\n",
    "    kernel = 3\n",
    "    filter_size = 64\n",
    "    pad = 1\n",
    "    pool_size = 2\n",
    "    return[\n",
    "        ZeroPadding2D(padding=(pad,pad)),\n",
    "        Convolution2D(512, kernel, kernel, border_mode='valid'),\n",
    "        BatchNormalization(),\n",
    "\n",
    "        UpSampling2D(size=(pool_size,pool_size)),\n",
    "        ZeroPadding2D(padding=(pad,pad)),\n",
    "        Convolution2D(256, kernel, kernel, border_mode='valid'),\n",
    "        BatchNormalization(),\n",
    "\n",
    "        UpSampling2D(size=(pool_size,pool_size)),\n",
    "        ZeroPadding2D(padding=(pad,pad)),\n",
    "        Convolution2D(128, kernel, kernel, border_mode='valid'),\n",
    "        BatchNormalization(),\n",
    "\n",
    "        UpSampling2D(size=(pool_size,pool_size)),\n",
    "        ZeroPadding2D(padding=(pad,pad)),\n",
    "        Convolution2D(filter_size, kernel, kernel, border_mode='valid'),\n",
    "        BatchNormalization(),\n",
    "    ]\n",
    "\n",
    "\n",
    "\n",
    "\n",
    "segnet_basic = Sequential()\n",
    "\n",
    "segnet_basic.add(Layer(input_shape=(200, 200, 3)))\n",
    "\n",
    "\n",
    "\n",
    "segnet_basic.encoding_layers = create_encoding_layers()\n",
    "for l in segnet_basic.encoding_layers:\n",
    "    segnet_basic.add(l)\n",
    "\n",
    "# Note: it this looks weird, that is because of adding Each Layer using that for loop\n",
    "# instead of re-writting mode.add(somelayer+params) everytime.\n",
    "\n",
    "segnet_basic.decoding_layers = create_decoding_layers()\n",
    "for l in segnet_basic.decoding_layers:\n",
    "    segnet_basic.add(l)\n",
    "\n",
    "segnet_basic.add(Convolution2D(3, 1, 1, border_mode='valid',))\n",
    "\n",
    "segnet_basic.add(Reshape((data_shape,3), input_shape=(200,200,3)))\n",
    "#segnet_basic.add(Permute((2, 1)))\n",
    "segnet_basic.add(Activation('softmax'))"
   ]
  },
  {
   "cell_type": "code",
   "execution_count": 16,
   "metadata": {},
   "outputs": [],
   "source": [
    "segnet_basic.compile(loss=\"categorical_crossentropy\", optimizer='adadelta', metrics=[\"accuracy\"])"
   ]
  },
  {
   "cell_type": "code",
   "execution_count": 17,
   "metadata": {},
   "outputs": [
    {
     "data": {
      "text/plain": [
       "(383, 40000, 3)"
      ]
     },
     "execution_count": 17,
     "metadata": {},
     "output_type": "execute_result"
    }
   ],
   "source": [
    "label.shape"
   ]
  },
  {
   "cell_type": "code",
   "execution_count": null,
   "metadata": {},
   "outputs": [
    {
     "name": "stdout",
     "output_type": "stream",
     "text": [
      "Epoch 1/1\n"
     ]
    }
   ],
   "source": [
    "segnet_basic.fit(train,label,epochs = 1)"
   ]
  },
  {
   "cell_type": "code",
   "execution_count": null,
   "metadata": {},
   "outputs": [],
   "source": []
  }
 ],
 "metadata": {
  "kernelspec": {
   "display_name": "Python 3",
   "language": "python",
   "name": "python3"
  },
  "language_info": {
   "codemirror_mode": {
    "name": "ipython",
    "version": 3
   },
   "file_extension": ".py",
   "mimetype": "text/x-python",
   "name": "python",
   "nbconvert_exporter": "python",
   "pygments_lexer": "ipython3",
   "version": "3.6.5"
  }
 },
 "nbformat": 4,
 "nbformat_minor": 2
}
